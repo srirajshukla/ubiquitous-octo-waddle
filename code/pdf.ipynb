{
 "cells": [
  {
   "cell_type": "code",
   "execution_count": 66,
   "metadata": {},
   "outputs": [],
   "source": [
    "#extract questions"
   ]
  },
  {
   "cell_type": "code",
   "execution_count": 67,
   "metadata": {},
   "outputs": [
    {
     "name": "stdout",
     "output_type": "stream",
     "text": [
      "C0.1: Give a general description and introduction to your organization. \n",
      "C0.2: State the start and end date of the year for which you are reporting data and indicate whether you will be providing emissions data \n",
      "C0.3: Select the countries/areas in which you operate. \n",
      "C0.4: Select the currency used for all financial information disclosed throughout your response. \n",
      "C0.5: Select the option that describes the reporting  boundary for which climate-related impacts on your business are being reported.  \n",
      "C-FS0.7: Which activities does your organization undertake, and which industry sectors does your organization lend to, invest in, and/or \n",
      "C0.8: Does your organization have an ISIN code or another unique identifier (e.g., Ticker, CUSIP, etc.)? \n"
     ]
    }
   ],
   "source": [
    "import fitz\n",
    "import re\n",
    "\n",
    "\n",
    "def extract_specific_questions_from_pdf(pdf_path):\n",
    "    questions = []\n",
    "\n",
    "    # Open the PDF file\n",
    "    pdf_document = fitz.open(pdf_path)\n",
    "\n",
    "    # Define the pattern for extracting questions starting with \"(C\"\n",
    "    # Modified pattern to capture question numbers\n",
    "    #question_pattern = r\"\\((C\\d+\\.\\d+)\\) (.+?)\\n\"\n",
    "    question_pattern = r\"\\((C(?:-FS)?\\d+(?:\\.\\d+)?)\\) (.+?)\\n\"\n",
    "\n",
    "    # Iterate through each page in the PDF\n",
    "    for page_num in range(pdf_document.page_count):\n",
    "        page = pdf_document[page_num]\n",
    "\n",
    "        # Extract text from the page\n",
    "        text = page.get_text()\n",
    "\n",
    "        # Search for questions matching the specified pattern\n",
    "        question_matches = re.findall(question_pattern, text)\n",
    "\n",
    "        # Add matched questions to the list\n",
    "        questions.extend(question_matches)\n",
    "\n",
    "    # Close the PDF document\n",
    "    pdf_document.close()\n",
    "\n",
    "    return questions\n",
    "\n",
    "\n",
    "# Specify the path to the PDF file\n",
    "pdf_path = 'D:\\\\proj\\\\New folder\\\\Survey-Questionnire-Part1.pdf'\n",
    "\n",
    "# Extract specific questions from the PDF\n",
    "specific_questions = extract_specific_questions_from_pdf(pdf_path)\n",
    "\n",
    "# Print the extracted specific questions with question numbers\n",
    "for question_number, question_text in specific_questions:\n",
    "    print(f\"{question_number}: {question_text}\")\n"
   ]
  },
  {
   "cell_type": "code",
   "execution_count": 68,
   "metadata": {},
   "outputs": [
    {
     "name": "stdout",
     "output_type": "stream",
     "text": [
      "New PDF created successfully!\n"
     ]
    }
   ],
   "source": [
    "def create_pdf_with_answers(input_pdf_path, output_pdf_path, questions):\n",
    "    output_pdf = fitz.open()  # Create a new PDF for output\n",
    "    sample_answer = \"Sample answer for the question.\"  # You can replace this with your actual sample answer\n",
    "    y_coordinate = 100  # Initial y-coordinate for the first question\n",
    "    page = output_pdf.new_page()  # Add a new page\n",
    "\n",
    "    for question_number, question_text in questions:\n",
    "        # Check if inserting the next text would exceed the page height\n",
    "        if y_coordinate >= page.rect.height:\n",
    "            page = output_pdf.new_page()  # Create a new page\n",
    "            y_coordinate = 100  # Reset y-coordinate\n",
    "\n",
    "        # Insert question number with purple color\n",
    "        page.insert_text((50, y_coordinate), f\"{question_number}:\", color=(0.5, 0, 0.5))  # Adjust position and color as needed\n",
    "        y_coordinate += 20  # Move to the next line\n",
    "\n",
    "        # Insert a horizontal line below the answer\n",
    "        page.draw_line((50, y_coordinate - 2), (550, y_coordinate - 2))  # Adjust the coordinates as needed for the horizontal line\n",
    "        y_coordinate += 20  # Move to the next line for the next question\n",
    "\n",
    "        # Insert question text\n",
    "        #question_text = question_text.FONT_BOLD\n",
    "        if len(question_text) > 99:\n",
    "            substrings = []\n",
    "            for i in range(0, len(question_text), 99):\n",
    "                substrings.append(question_text[i:i+99])\n",
    "            for i in substrings:\n",
    "                page.insert_text((50, y_coordinate), f\"{i}\", color=(0.5, 0, 0.5))  # Adjust position and color as needed\n",
    "                y_coordinate += 20  # Move to the next line\n",
    "            \n",
    "        else:\n",
    "            page.insert_text((50, y_coordinate), f\"{question_number}: {question_text}\", color=(0.5, 0, 0.5))  # Adjust position and color as needed\n",
    "            y_coordinate += 20  # Move to the next line\n",
    "\n",
    "        # Insert sample answer below the question\n",
    "        if len(sample_answer) > 99:\n",
    "            substrings = []\n",
    "            for i in range(0, len(sample_answer), 99):\n",
    "                substrings.append(sample_answer[i:i+99])\n",
    "            for i in substrings:\n",
    "                page.insert_text((50, y_coordinate), f\"Sample Answer: {sample_answer}\")  # Adjust position and color as needed\n",
    "                y_coordinate += 20  # Move to the next line\n",
    "            \n",
    "        else:\n",
    "            page.insert_text((50, y_coordinate), f\"Sample Answer: {sample_answer}\")  # Adjust position as needed\n",
    "            y_coordinate += 40  # Move to the next line for the next question\n",
    "\n",
    "        \n",
    "\n",
    "    # Save the output PDF\n",
    "    output_pdf.save(output_pdf_path)\n",
    "    output_pdf.close()\n",
    "\n",
    "    print(\"New PDF created successfully!\")\n",
    "\n",
    "\n",
    "# Specify the path to the PDF file\n",
    "pdf_path = 'D:\\\\proj\\\\New folder\\\\Survey-Questionnire-Part1.pdf'\n",
    "\n",
    "# Extract specific questions from the PDF\n",
    "specific_questions = extract_specific_questions_from_pdf(pdf_path)\n",
    "\n",
    "# Specify the path for the output PDF file\n",
    "output_pdf_path = 'D:\\\\proj\\\\New folder\\\\output_with_answers.pdf'\n",
    "\n",
    "# Create PDF with sample answers for each question\n",
    "create_pdf_with_answers(pdf_path, output_pdf_path, specific_questions)"
   ]
  }
 ],
 "metadata": {
  "kernelspec": {
   "display_name": "Python 3",
   "language": "python",
   "name": "python3"
  },
  "language_info": {
   "codemirror_mode": {
    "name": "ipython",
    "version": 3
   },
   "file_extension": ".py",
   "mimetype": "text/x-python",
   "name": "python",
   "nbconvert_exporter": "python",
   "pygments_lexer": "ipython3",
   "version": "3.7.7"
  }
 },
 "nbformat": 4,
 "nbformat_minor": 2
}
