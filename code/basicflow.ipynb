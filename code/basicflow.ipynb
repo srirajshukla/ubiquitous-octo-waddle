{
 "cells": [
  {
   "cell_type": "code",
   "execution_count": 2,
   "metadata": {},
   "outputs": [],
   "source": [
    "import os\n",
    "\n",
    "from langchain_core.messages import HumanMessage\n",
    "from langchain_openai import AzureChatOpenAI\n",
    "\n",
    "os.environ[\"OPENAI_API_VERSION\"] = \"2024-02-15-preview\"\n",
    "os.environ[\"AZURE_OPENAI_ENDPOINT\"] = \"https://openaimodelv3si.openai.azure.com/\"\n",
    "os.environ[\"AZURE_OPENAI_API_KEY\"] = \"e248b8e8dbf94849ac6888971cacc9ae\""
   ]
  },
  {
   "cell_type": "code",
   "execution_count": 3,
   "metadata": {},
   "outputs": [],
   "source": [
    "llm = AzureChatOpenAI(\n",
    "    openai_api_version=\"2023-05-15\",\n",
    "    azure_deployment=\"trial1\",\n",
    ")"
   ]
  },
  {
   "cell_type": "code",
   "execution_count": null,
   "metadata": {},
   "outputs": [],
   "source": [
    "message = HumanMessage(\n",
    "    content=\"Translate this sentence from English to French. I love programming.\"\n",
    ")\n",
    "llm.invoke([message])"
   ]
  },
  {
   "cell_type": "code",
   "execution_count": 5,
   "metadata": {},
   "outputs": [],
   "source": [
    "from langchain_community.document_loaders import PyPDFLoader\n",
    "\n",
    "loader = PyPDFLoader(\"/Users/aryan/Desktop/fargowells/mlpoc/hackathon/sustainability-survey-automation/training-data/2021-annual-report.pdf\")\n",
    "pages = loader.load_and_split()\n",
    "# pages"
   ]
  },
  {
   "cell_type": "code",
   "execution_count": 6,
   "metadata": {},
   "outputs": [],
   "source": [
    "# from langchain_openai import OpenAIEmbeddings\n",
    "# embeddings = OpenAIEmbeddings()\n",
    "\n",
    "from langchain_openai import AzureOpenAIEmbeddings\n",
    "from langchain_community.vectorstores import FAISS\n",
    "\n",
    "embeddings = AzureOpenAIEmbeddings(\n",
    "    azure_deployment=\"embed1\",\n",
    "    openai_api_version=os.getenv(\"OPENAI_API_VERSION\"),\n",
    ")\n",
    "vector = FAISS.from_documents(pages, embeddings)"
   ]
  },
  {
   "cell_type": "code",
   "execution_count": null,
   "metadata": {},
   "outputs": [],
   "source": [
    "# from langchain_core.prompts import ChatPromptTemplate\n",
    "# # from langchain_community.document_chains import create_stuff_documents_chain\n",
    "# # from langchain_community.retrieval_chains import create_retrieval_chain\n",
    "# from langchain.chains.combine_documents import create_stuff_documents_chain\n",
    "# from langchain_core.runnables import RunnablePassthrough\n",
    "\n",
    "# # Create retriever\n",
    "# retriever = vector.as_retriever()\n",
    "\n",
    "# # Create Agent\n",
    "# # llm = Ollama(model=\"llama2\")\n",
    "# prompt = ChatPromptTemplate.from_template(\"\"\"Answer the following question based only on the provided context in a short and concise manner. Do not use any external information. The context is as follows:\n",
    "\n",
    "# <context>\n",
    "# {context}\n",
    "# </context>\n",
    "\n",
    "# Question: {input}\"\"\")\n",
    "# document_chain = create_stuff_documents_chain(llm, prompt)\n",
    "\n",
    "# # retrieval_chain = create_retrieval_chain(retriever, document_chain)\n",
    "\n",
    "# def format_docs(docs):\n",
    "#     return \"\\n\\n\".join(doc.page_content for doc in docs)\n",
    "\n",
    "# rag_chain = (\n",
    "#     {\"context\": retriever | format_docs, \"question\": RunnablePassthrough()}\n",
    "#     | prompt\n",
    "#     | llm\n",
    "# )\n",
    "# rag_chain.invoke({\"question\": \"summarize this annual report\"})"
   ]
  },
  {
   "cell_type": "code",
   "execution_count": 7,
   "metadata": {},
   "outputs": [],
   "source": [
    "from langchain.chains import RetrievalQA\n",
    "from langchain.prompts import (\n",
    "    PromptTemplate,\n",
    "    SystemMessagePromptTemplate,\n",
    "    HumanMessagePromptTemplate,\n",
    "    ChatPromptTemplate,\n",
    ")\n",
    "\n",
    "review_template = \"\"\"Your job is to use ESG (A sustainability report is a report published by companies on the environmental, social and governance (ESG) impacts of their activities) \n",
    "documents and annual reports to answer questions. Use\n",
    "the following context to answer questions. Be as detailed as possible, but\n",
    "don't make up any information that's not from the context. If you don't know\n",
    "an answer, say you don't know.\n",
    "{context}\n",
    "\"\"\"\n",
    "\n",
    "esg_system_prompt = SystemMessagePromptTemplate(\n",
    "    prompt=PromptTemplate(input_variables=[\"context\"], template=review_template)\n",
    ")\n",
    "\n",
    "esg_human_prompt = HumanMessagePromptTemplate(\n",
    "    prompt=PromptTemplate(input_variables=[\"question\"], template=\"{question}\")\n",
    ")\n",
    "messages = [esg_system_prompt, esg_human_prompt]\n",
    "\n",
    "esg_prompt = ChatPromptTemplate(\n",
    "    input_variables=[\"context\", \"question\"], messages=messages\n",
    ")\n",
    "\n",
    "retriever = vector.as_retriever()\n",
    "\n",
    "esg_vector_chain = RetrievalQA.from_chain_type(\n",
    "    llm=llm,\n",
    "    chain_type=\"stuff\",\n",
    "    retriever=retriever,\n",
    "    return_source_documents=True\n",
    ")\n",
    "# esg_vector_chain.combine_documents_chain.llm_chain.prompt = esg_prompt"
   ]
  },
  {
   "cell_type": "code",
   "execution_count": 8,
   "metadata": {},
   "outputs": [
    {
     "data": {
      "text/plain": [
       "{'query': 'Identify the position(s) (do not include any names) of the individual(s) on the board with responsibility for climate-related issues.',\n",
       " 'result': 'The position responsible for climate-related issues on the board is the Corporate Responsibility Committee.',\n",
       " 'source_documents': [Document(page_content='Board of Directors \\nSteven D. Black Maria R. Morris \\nChairman, Retired Executive Vice President and Head of \\nWells Fargo & Company Global Employee Benefits business, MetLife, Inc. \\nMark A. Chancy Richard B. Payne, Jr. \\nRetired Vice Chairman and Co-Chief Operating Retired Vice Chairman, Wholesale Banking, \\nOfficer, SunTrust Banks, Inc. U.S. Bancorp \\nCeleste A. Clark Juan A. Pujadas \\nPrincipal, Abraham Clark Consulting, LLC, and Retired Senior Retired Principal, PricewaterhouseCoopers LLP, \\nVice President, Global Public Policy and External Relations and former Vice Chairman, Global Advisory Services, \\nand Chief Sustainability Officer, Kellogg Company PwC International \\nTheodore F. Craver, Jr. Ronald L. Sargent \\nRetired Chairman, President and CEO, Retired Chairman and CEO, \\nEdison International Staples, Inc. \\nWayne M. Hewett Charles W. Scharf \\nSenior Advisor, Permira, and Chairman, Chief Executive Officer and President, \\nDiversiTech Corporation Wells Fargo & Company \\nSuzanne M. Vautrinot \\nPresident, Kilovolt Consulting, Inc. \\nand Major General and Commander, United States Air Force (retired) \\nAs of February 25, 2022 \\nXVII', metadata={'source': '/Users/aryan/Desktop/fargowells/mlpoc/hackathon/sustainability-survey-automation/training-data/2021-annual-report.pdf', 'page': 18}),\n",
       "  Document(page_content='Operating Committee \\nWilliam M. Daley \\nVice Chairman \\nof Public Affairs \\nDerek A. Flowers \\nSenior EVP, \\nChief Risk Officer \\nKyle G. Hranicky \\nSenior EVP, CEO of \\nCommercial Banking \\nBei Ling \\nSenior EVP, Head of \\nHuman Resources \\nMary T. Mack \\nSenior EVP, CEO of Consumer \\n& Small Business Banking \\nLester J. Owens \\nSenior EVP, \\nHead of Operations \\nEllen R. Patterson \\nSenior EVP, \\nGeneral Counsel \\nScott E. Powell \\nSenior EVP, \\nChief Operating Officer Michael P . Santomassimo \\nSenior EVP, \\nChief Financial Officer \\nKleber R. Santos \\nSenior EVP, Head of Diverse Segments, Representation & Inclusion \\nCharles W. Scharf \\nChief Executive Officer and President \\nBarry Sommers \\nSenior EVP, CEO of Wealth & Investment Management \\nSaul Van Beurden \\nSenior EVP, Head of Technology \\nMichael S. Weinbach \\nSenior EVP, CEO of Consumer Lending \\nJonathan G. Weiss \\nSenior EVP, CEO of Corporate & Investment Banking \\nAther Williams III \\nSenior EVP, Head of Strategy, Digital Platform, and Innovation \\nAs of February 25, 2022 \\nAll members of the Operating Committee are executive \\nofficers according to Securities and Exchange Commission rules. Muneera S. Carr, EVP, Chief Accounting Officer and Controller, also is an executive officer. \\nXVI 2021 Annual Report', metadata={'source': '/Users/aryan/Desktop/fargowells/mlpoc/hackathon/sustainability-survey-automation/training-data/2021-annual-report.pdf', 'page': 17}),\n",
       "  Document(page_content='Risk Management (continued) \\nManagement Committee Structure. The Company has \\nestablished management committees, including those focused \\non risk, that support management in carrying out its governance and risk management responsibilities. One type of management committee is a governance committee, which is a decision-making body that operates for a particular purpose and may report to a Board committee. \\nEach management governance committee, in accordance \\nwith its charter, is expected to discuss, document, and make decisions regarding high priority and significant risks, emerging \\nTable 14: Board and Management-level Governance Committee Structure risks, risk acceptances, and risks and issues escalated to it; review and monitor progress related to critical and high-risk issues and remediation efforts, including lessons learned; and report key challenges, decisions, escalations, other actions, and open issues as appropriate. \\nTable 14 presents, as of December\\xa031, 2021, the structure \\nof the Company’s Board committees and management governance committees reporting to a Board committee, including relevant reporting and escalation paths. \\nWells Fargo & Company \\nAudit \\nCommittee (1) Finance \\nCommittee Corporate\\nResponsibility\\nCommittee Risk \\nCommittee Governance & \\nNominating\\nCommittee Human \\nResources \\nCommittee \\nManagement Governance Committees \\nDisclosure \\nCommittee Capital \\nManagement\\nCommittee Allowance for Credit \\nLosses Approval \\nGovernance \\nCommittee Enterprise Risk &\\nControl Committee Incentive \\nCompensation \\nand \\nPerformance \\nManagement\\nCommittee \\nRegulatory and\\nRisk Reporting\\nOversight\\nCommittee Corporate \\nAsset/Liability\\nCommittee Risk and Control \\nCommittees \\nRecovery and\\nResolution \\nCommittee Risk Type \\nCommittees \\nRisk Topic \\nCommittees \\n(1) The Audit Committee additionally oversees the internal audit function; external auditor independence, activities, and performance; and the disclosure framework for financial, regulatory and risk reports prepared for the Board, management, and bank regulatory agencies; and assists the Board in its oversight of the Company’s compliance with legal and regulatory requirements. \\nManagement Governance Committees Reporting to the Risk Committee of the Board. The Enterprise Risk & Control \\nCommittee (ERCC) is a decision-making and escalation body that governs the management of all risk types. The ERCC receives information about risk and control issues, addresses escalated risks and issues, and actively oversees risk controls. The ERCC also makes decisions related to significant risks and changes to the Company’s risk appetite. The Risk Committee receives regular updates from the ERCC chairs and senior management regarding current and emerging risks and senior management’s assessment of the effectiveness of the Company’s risk management program. \\nThe ERCC is co-chaired by the CEO and CRO, and its \\nmembership is comprised of principal line of business and certain enterprise function heads. The Chief Auditor or a designee attends all meetings of the ERCC. The ERCC has a direct escalation path to the Risk Committee. The ERCC also escalates certain human capital risks and issues to the Human Resources Committee. In addition, the CRO may escalate anything directly to the Board. Risks and issues are escalated to the ERCC in accordance with the Company’s escalation management policy. \\nEach principal line of business and enterprise function has a \\nrisk and control committee, which is a management governance committee with a mandate that aligns with the ERCC but with its scope limited to the respective principal line of business or enterprise function. These committees focus on and consider risks that the respective principal line of business or enterprise function generate and manage, and the controls the principal line of business or enterprise function are expected to have in place. \\nAs a complement to these risk and control committees,', metadata={'source': '/Users/aryan/Desktop/fargowells/mlpoc/hackathon/sustainability-survey-automation/training-data/2021-annual-report.pdf', 'page': 51}),\n",
       "  Document(page_content='As a complement to these risk and control committees, \\nmanagement governance committees dedicated to specific risk types and risk topics also report to the ERCC to enable more comprehensive governance of risks. \\nRisk Operating Model – Roles and Responsibilities \\nThe Company has three lines of defense for managing risk: the Front Line, Independent Risk Management, and Internal Audit. • Front Line The Front Line, which comprises principal line of \\nbusiness and certain enterprise function activities, is the first line of defense. The Front Line is responsible for understanding the risks generated by its activities, applying adequate controls, and managing risk in the course of its business activities. The Front Line identifies, measures and assesses, controls, monitors, and reports on risk generated by or associated with its business activities and balances risk and reward in decision making while operating within the Company’s risk appetite. \\n• Independent Risk Management IRM is the second line of \\ndefense. It establishes and maintains the Company’s risk management program and provides oversight, including challenge to and independent assessment of, the Front Line’s execution of its risk management responsibilities. \\nWells Fargo & Company 32', metadata={'source': '/Users/aryan/Desktop/fargowells/mlpoc/hackathon/sustainability-survey-automation/training-data/2021-annual-report.pdf', 'page': 51})]}"
      ]
     },
     "execution_count": 8,
     "metadata": {},
     "output_type": "execute_result"
    }
   ],
   "source": [
    "query = \"Identify the position(s) (do not include any names) of the individual(s) on the board with responsibility for climate-related issues.\"\n",
    "response = esg_vector_chain.invoke(query)\n",
    "response"
   ]
  }
 ],
 "metadata": {
  "kernelspec": {
   "display_name": "py311",
   "language": "python",
   "name": "python3"
  },
  "language_info": {
   "codemirror_mode": {
    "name": "ipython",
    "version": 3
   },
   "file_extension": ".py",
   "mimetype": "text/x-python",
   "name": "python",
   "nbconvert_exporter": "python",
   "pygments_lexer": "ipython3",
   "version": "3.11.7"
  }
 },
 "nbformat": 4,
 "nbformat_minor": 2
}
